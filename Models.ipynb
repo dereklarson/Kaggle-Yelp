{
 "metadata": {
  "name": "",
  "signature": "sha256:da474784b7831ced91d2cce47d7236dfef0838c15583ecb7cd2972280716d9e4"
 },
 "nbformat": 3,
 "nbformat_minor": 0,
 "worksheets": [
  {
   "cells": [
    {
     "cell_type": "code",
     "collapsed": false,
     "input": [
      "import numpy as np\n",
      "import cPickle as cp\n",
      "import matplotlib.pyplot as plt\n",
      "from sklearn.ensemble import GradientBoostingRegressor as GBR\n",
      "from sklearn.ensemble import RandomForestRegressor as RFR\n",
      "from sklearn.ensemble import ExtraTreesRegressor as ETR\n",
      "\n",
      "np.set_printoptions(precision=4, suppress=True)"
     ],
     "language": "python",
     "metadata": {},
     "outputs": [],
     "prompt_number": 19
    },
    {
     "cell_type": "code",
     "collapsed": false,
     "input": [
      "#RMSLE - root mean square log error \n",
      "def metric(pred, label):\n",
      "    #return np.sqrt(np.mean((np.log(1 + pred) - np.log(1 + label))**2, axis=0))\n",
      "    #everything preprocessed with log so we just calc RMSE\n",
      "    return np.sqrt(np.mean((pred - label)**2, axis=0))"
     ],
     "language": "python",
     "metadata": {},
     "outputs": [],
     "prompt_number": 20
    },
    {
     "cell_type": "code",
     "collapsed": false,
     "input": [
      "#RMSLE plus pre-scaling of the data by a polynomial derived from review age, giving 'useful vote density' in time\n",
      "def poly_metric(_pred, _label, _ages, pa, pb):\n",
      "    mask = _ages > 40000\n",
      "    pr = _pred.copy()\n",
      "    la = _label.copy()\n",
      "    pr[mask] *= pb(_ages[mask]/1000.)\n",
      "    pr[~mask] *= pa(_ages[~mask]/1000.) \n",
      "    la[mask] *= pb(_ages[mask]/1000.)\n",
      "    la[~mask] *= pa(_ages[~mask]/1000.)\n",
      "    return np.sqrt(np.mean((np.log(1 + pr) - np.log(1 + la))**2, axis=0))"
     ],
     "language": "python",
     "metadata": {},
     "outputs": [],
     "prompt_number": 21
    },
    {
     "cell_type": "code",
     "collapsed": false,
     "input": [
      "def load_set(model_str):\n",
      "    ret = {}\n",
      "    ret['trd'] = cp.load(open('D_TR_'+model_str+'_data'))\n",
      "    ret['trl'] = cp.load(open('D_TR_'+model_str+'_labels'))\n",
      "    ret['tra'] = cp.load(open('D_TR_'+model_str+'_ages'))\n",
      "    ret['ted'] = cp.load(open('D_TE_'+model_str+'_data'))\n",
      "    ret['tei'] = cp.load(open('D_TE_'+model_str+'_ids'))\n",
      "    ret['tea'] = cp.load(open('D_TE_'+model_str+'_ages'))\n",
      "    ret['cut'] = int(len(ret['trd']) * 0.9)\n",
      "    #ret.update(cp.load(open('D_label_poly')))\n",
      "    print model_str, 'set | train entries:', ret['trd'].shape, 'cut:', ret['cut'], 'Test:', ret['ted'].shape\n",
      "    return ret"
     ],
     "language": "python",
     "metadata": {},
     "outputs": [],
     "prompt_number": 22
    },
    {
     "cell_type": "code",
     "collapsed": false,
     "input": [
      "def fit_pred(_models, _data, _labels, _vcut, _ages=None, pa=None, pb=None):\n",
      "    pred_sum = 0\n",
      "    for _model in _models.values():\n",
      "        model_name = str(_model).split('(')[0]\n",
      "        _model.fit(_data[:_vcut], _labels[:_vcut])\n",
      "        _preds = _model.predict(_data[_vcut:])\n",
      "        print model_name, metric(_preds, _labels[_vcut:])\n",
      "        #print model_name, poly_metric(_preds, _labels[_vcut:], _ages[_vcut:], pa, pb)\n",
      "        pred_sum += _preds\n",
      "    if(len(_models.values()) > 1): print '@@Together: ', metric(pred_sum/len(_models), _labels[_vcut:])"
     ],
     "language": "python",
     "metadata": {},
     "outputs": [],
     "prompt_number": 23
    },
    {
     "cell_type": "code",
     "collapsed": false,
     "input": [
      "#Define models\n",
      "n_est = 20\n",
      "\n",
      "all_models = {'RFR': RFR(n_estimators=n_est, n_jobs=4),\n",
      "              'ETR': ETR(n_estimators=n_est, n_jobs=4)}\n",
      "user_models = {'RFR': RFR(n_estimators=n_est, n_jobs=4),\n",
      "              'ETR': ETR(n_estimators=n_est, n_jobs=4)}\n",
      "votes_models = {'RFR': RFR(n_estimators=n_est, n_jobs=4),\n",
      "              'ETR': ETR(n_estimators=n_est, n_jobs=4)}"
     ],
     "language": "python",
     "metadata": {},
     "outputs": [],
     "prompt_number": 15
    },
    {
     "cell_type": "code",
     "collapsed": false,
     "input": [
      "#Load sets of data\n",
      "all_set = load_set('all')\n",
      "votes_set = load_set('votes')\n",
      "user_set = load_set('user')"
     ],
     "language": "python",
     "metadata": {},
     "outputs": [
      {
       "output_type": "stream",
       "stream": "stdout",
       "text": [
        "all set | train entries: (215879, 17) cut: 194291 Test: (13847, 17)\n",
        "votes"
       ]
      },
      {
       "output_type": "stream",
       "stream": "stdout",
       "text": [
        " set | train entries: (215904, 14) cut: 194313 Test: (7661, 14)\n",
        "user"
       ]
      },
      {
       "output_type": "stream",
       "stream": "stdout",
       "text": [
        " set | train entries: (229907, 11) cut: 206916 Test: (1448, 11)\n"
       ]
      }
     ],
     "prompt_number": 16
    },
    {
     "cell_type": "code",
     "collapsed": false,
     "input": [
      "#Fit all of the models and get individual and composite scores\n",
      "%%time\n",
      "fit_pred(all_models, all_set['trd'], all_set['trl'], all_set['cut'])\n",
      "fit_pred(votes_models, votes_set['trd'], votes_set['trl'], votes_set['cut'])\n",
      "fit_pred(user_models, user_set['trd'], user_set['trl'], user_set['cut'])"
     ],
     "language": "python",
     "metadata": {},
     "outputs": [
      {
       "output_type": "stream",
       "stream": "stdout",
       "text": [
        "ExtraTreesRegressor 0.464906472098\n"
       ]
      },
      {
       "output_type": "stream",
       "stream": "stdout",
       "text": [
        "RandomForestRegressor 0.462459019975\n",
        "@@Together:  0.456426650158\n"
       ]
      },
      {
       "output_type": "stream",
       "stream": "stdout",
       "text": [
        "ExtraTreesRegressor 0.520813225206\n"
       ]
      },
      {
       "output_type": "stream",
       "stream": "stdout",
       "text": [
        "RandomForestRegressor 0.514394880763\n",
        "@@Together:  0.508848909163\n"
       ]
      },
      {
       "output_type": "stream",
       "stream": "stdout",
       "text": [
        "ExtraTreesRegressor 0.582782424533\n"
       ]
      },
      {
       "output_type": "stream",
       "stream": "stdout",
       "text": [
        "RandomForestRegressor 0.578052980236\n",
        "@@Together:  0.571749061053\n",
        "CPU times: user 7.45 s, sys: 15 s, total: 22.5 s\n",
        "Wall time: 10min 39s\n"
       ]
      }
     ],
     "prompt_number": 17
    },
    {
     "cell_type": "code",
     "collapsed": false,
     "input": [
      "#Check how important each feature is\n",
      "print '###All user info model###'\n",
      "for key in all_models:\n",
      "    print key, all_models[key].feature_importances_\n",
      "print '###Missing user model###'\n",
      "for key in user_models:\n",
      "    print key, user_models[key].feature_importances_\n",
      "print '###Missing useful votes model###'\n",
      "for key in votes_models:\n",
      "    print key, votes_models[key].feature_importances_"
     ],
     "language": "python",
     "metadata": {},
     "outputs": [
      {
       "output_type": "stream",
       "stream": "stdout",
       "text": [
        "###All user info model###\n",
        "ETR "
       ]
      },
      {
       "output_type": "stream",
       "stream": "stdout",
       "text": [
        "[ 0.0903  0.007   0.1209  0.0129  0.0001  0.1724  0.0001  0.0001  0.0003\n",
        "  0.0004  0.0003  0.2061  0.0003  0.0014  0.1043  0.1042  0.1789]\n",
        "RFR "
       ]
      },
      {
       "output_type": "stream",
       "stream": "stdout",
       "text": [
        "[ 0.0227  0.008   0.0324  0.0139  0.0001  0.0143  0.0002  0.0002  0.0001\n",
        "  0.0008  0.0003  0.0011  0.0004  0.002   0.5963  0.0003  0.3071]\n",
        "###Missing user model###\n",
        "ETR "
       ]
      },
      {
       "output_type": "stream",
       "stream": "stdout",
       "text": [
        "[ 0.3411  0.0188  0.1736  0.1743  0.0003  0.2839  0.0009  0.0016  0.0004\n",
        "  0.0019  0.0033]\n",
        "RFR [ 0.2886  0.0027  0.0549  0.5749  0.0004  0.0717  0.0015  0.0013  0.0003\n",
        "  0.0016  0.0021]\n",
        "###Missing useful votes model###\n",
        "ETR "
       ]
      },
      {
       "output_type": "stream",
       "stream": "stdout",
       "text": [
        "[ 0.2082  0.0091  0.2409  0.0631  0.0001  0.1744  0.0004  0.0005  0.0005\n",
        "  0.0005  0.0007  0.2991  0.0009  0.0014]\n",
        "RFR "
       ]
      },
      {
       "output_type": "stream",
       "stream": "stdout",
       "text": [
        "[ 0.2062  0.0065  0.0827  0.0932  0.0001  0.0554  0.0005  0.0004  0.0001\n",
        "  0.0007  0.0007  0.5482  0.0027  0.0026]\n"
       ]
      }
     ],
     "prompt_number": 18
    },
    {
     "cell_type": "code",
     "collapsed": false,
     "input": [
      "test_preds_all = np.expm1(np.mean([_model.predict(all_set['ted']) for _model in all_models.values()], axis=0))\n",
      "test_preds_user = np.expm1(np.mean([_model.predict(user_set['ted']) for _model in user_models.values()], axis=0))\n",
      "test_preds_votes = np.expm1(np.mean([_model.predict(votes_set['ted']) for _model in votes_models.values()], axis=0))"
     ],
     "language": "python",
     "metadata": {},
     "outputs": [],
     "prompt_number": 9
    },
    {
     "cell_type": "code",
     "collapsed": false,
     "input": [
      "test_preds_all[test_preds_all < 0] = 0.\n",
      "test_preds_user[test_preds_user < 0] = 0.\n",
      "test_preds_votes[test_preds_votes < 0] = 0."
     ],
     "language": "python",
     "metadata": {},
     "outputs": [],
     "prompt_number": 10
    },
    {
     "cell_type": "code",
     "collapsed": false,
     "input": [
      "#Prepare submission\n",
      "f = open('submission', 'w')\n",
      "f.write('Id,Votes\\n')\n",
      "for i in range(len(all_set['tei'])):\n",
      "    f.write(all_set['tei'][i]+','+str(test_preds_all[i])+'\\n')\n",
      "for i in range(len(user_set['tei'])):\n",
      "    f.write(user_set['tei'][i]+','+str(test_preds_user[i])+'\\n')\n",
      "for i in range(len(votes_set['tei'])):\n",
      "    f.write(votes_set['tei'][i]+','+str(test_preds_votes[i])+'\\n')\n",
      "f.close()"
     ],
     "language": "python",
     "metadata": {},
     "outputs": [],
     "prompt_number": 11
    }
   ],
   "metadata": {}
  }
 ]
}