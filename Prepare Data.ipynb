{
 "metadata": {
  "name": "",
  "signature": "sha256:9704ad1003f9c2e9baae06a1260d6a2984135e28c6a6b0cf4d8f852d96977c1b"
 },
 "nbformat": 3,
 "nbformat_minor": 0,
 "worksheets": [
  {
   "cells": [
    {
     "cell_type": "code",
     "collapsed": false,
     "input": [
      "import os, time, math, copy, re, string\n",
      "import numpy as np\n",
      "import cPickle as cp\n",
      "from nltk import PorterStemmer as PS\n",
      "from collections import defaultdict\n",
      "import matplotlib.pyplot as plt\n",
      "from y_util import read_json, age_in_hours"
     ],
     "language": "python",
     "metadata": {},
     "outputs": [],
     "prompt_number": 1
    },
    {
     "cell_type": "heading",
     "level": 3,
     "metadata": {},
     "source": [
      "Load data"
     ]
    },
    {
     "cell_type": "code",
     "collapsed": false,
     "input": [
      "tr_path = os.getcwd() + \"/yelp_training_set/\"\n",
      "te_path = os.getcwd() + \"/yelp_test_set/\"\n",
      "tr_base = \"yelp_training_set_\"\n",
      "te_base = \"yelp_test_set_\"\n",
      "ext = \".json\""
     ],
     "language": "python",
     "metadata": {},
     "outputs": [],
     "prompt_number": 2
    },
    {
     "cell_type": "code",
     "collapsed": false,
     "input": [
      "#Get training data from files\n",
      "tr_bus = read_json(tr_path+tr_base+'business'+ext)\n",
      "tr_chk = read_json(tr_path+tr_base+'checkin'+ext)\n",
      "tr_rev = read_json(tr_path+tr_base+'review'+ext)\n",
      "tr_usr = read_json(tr_path+tr_base+'user'+ext)"
     ],
     "language": "python",
     "metadata": {},
     "outputs": [],
     "prompt_number": 3
    },
    {
     "cell_type": "code",
     "collapsed": false,
     "input": [
      "#Get testing data from files\n",
      "te_bus = read_json(te_path+te_base+'business'+ext)\n",
      "te_chk = read_json(te_path+te_base+'checkin'+ext)\n",
      "te_rev = read_json(te_path+te_base+'review'+ext)\n",
      "te_usr = read_json(te_path+te_base+'user'+ext)"
     ],
     "language": "python",
     "metadata": {},
     "outputs": [],
     "prompt_number": 4
    },
    {
     "cell_type": "heading",
     "level": 3,
     "metadata": {},
     "source": [
      "Create user and business dictionaries"
     ]
    },
    {
     "cell_type": "code",
     "collapsed": false,
     "input": [
      "#Setup dictionaries for users and businesses\n",
      "usr_dict = {entry['user_id']: entry for entry in (tr_usr + te_usr)}\n",
      "bus_dict = {}\n",
      "for entry in tr_bus:\n",
      "    bus_dict[entry['business_id']] = entry\n",
      "    bus_dict[entry['business_id']]['checkins'] = 0\n",
      "for entry in te_bus:\n",
      "    bus_dict[entry['business_id']] = entry\n",
      "    bus_dict[entry['business_id']]['checkins'] = 0\n",
      "#Use checkins as a bulk number\n",
      "for entry in tr_chk:\n",
      "    bus_dict[entry['business_id']]['checkins'] = sum(entry['checkin_info'].values())"
     ],
     "language": "python",
     "metadata": {},
     "outputs": [],
     "prompt_number": 5
    },
    {
     "cell_type": "heading",
     "level": 3,
     "metadata": {},
     "source": [
      "Create features from raw data + dictionaries"
     ]
    },
    {
     "cell_type": "code",
     "collapsed": false,
     "input": [
      "#regex to remove punctuation\n",
      "regex_punc = re.compile('[%s]' % re.escape(string.punctuation))\n",
      "\n",
      "def make_feats(dataset, ref_date, _bus_dict, _usr_dict, test=False):\n",
      "    #We generate 3 datasets depending on available information: all, user votes missing, or the entire user unknown\n",
      "    no_user = {}\n",
      "    no_votes = {}\n",
      "    all_info = {}\n",
      "    \n",
      "    for sample in dataset:\n",
      "        #Add basic review features\n",
      "        new_sample = [age_in_hours(sample['date'], ref_date), sample['stars']]\n",
      "        \n",
      "        #Add features based on text\n",
      "        new_sample += get_text_features(sample['text'], thresh=3)\n",
      "        \n",
      "        #Grab info from business dict: star rating, rev. ct, and checkins might measure popularity\n",
      "        #extremeness of user rating might signal special situation\n",
      "        bus = _bus_dict[sample['business_id']]\n",
      "        new_sample += [bus['stars'], (sample['stars'] - bus['stars'])**2, \n",
      "                       math.log(1.+bus['review_count']), math.log(1.+bus['checkins'])]\n",
      "        \n",
      "        #Get info and split set based on user dict\n",
      "        user = sample['user_id']\n",
      "        if not test or user not in _usr_dict:\n",
      "            no_user[sample['review_id']] = copy.copy(new_sample)\n",
      "            \n",
      "        #We'll use the log(# of reviews), average star rating of user, and how extreme the sample rating is\n",
      "        if user in _usr_dict:\n",
      "            entry = _usr_dict[user]\n",
      "            u_rev_ct = entry['review_count']\n",
      "            new_sample += [math.log(1.+u_rev_ct), entry['average_stars']]\n",
      "            new_sample += [(sample['stars'] - entry['average_stars'])**2]\n",
      "            \n",
      "            if not test or 'votes' not in entry:\n",
      "                no_votes[sample['review_id']] = copy.copy(new_sample)\n",
      "                \n",
      "            #Vote history of this user's reviews is useful; use as a density\n",
      "            if 'votes' in entry:\n",
      "                new_sample += [entry['votes']['cool']*1./u_rev_ct,\n",
      "                               entry['votes']['funny']*1./u_rev_ct,\n",
      "                               entry['votes']['useful']*1./u_rev_ct]\n",
      "                            \n",
      "                all_info[sample['review_id']] = new_sample\n",
      "\n",
      "    return no_user, no_votes, all_info"
     ],
     "language": "python",
     "metadata": {},
     "outputs": [],
     "prompt_number": 6
    },
    {
     "cell_type": "code",
     "collapsed": false,
     "input": [
      "#Grabs a few simple features like text length, how much punctuation, fully capitalized words, unique words, avg word length\n",
      "def get_text_features(_text, thresh=3):\n",
      "    text_len = len(_text)\n",
      "    proc = regex_punc.sub('', _text)\n",
      "    n_punc = text_len - len(proc) \n",
      "    n_cap, hits = count_words(proc)\n",
      "    unique_words = len(hits)\n",
      "    avg_len = text_len * 1. / (1. + sum(hits.values()))\n",
      "    return [math.log(1.+text_len), n_punc, n_cap, unique_words, avg_len]"
     ],
     "language": "python",
     "metadata": {},
     "outputs": [],
     "prompt_number": 7
    },
    {
     "cell_type": "code",
     "collapsed": false,
     "input": [
      "def count_words(_text, thresh=3):\n",
      "    _hits = defaultdict(int)\n",
      "    _ps = PS()\n",
      "    ct = 0\n",
      "    for word in _text.split():\n",
      "        if word.upper() == word and len(word) >= thresh:\n",
      "            ct += 1\n",
      "        _hits[_ps.stem(word.lower())] += 1\n",
      "    return ct, _hits"
     ],
     "language": "python",
     "metadata": {},
     "outputs": [],
     "prompt_number": 8
    },
    {
     "cell_type": "code",
     "collapsed": false,
     "input": [
      "#Rescale the labels by a polynomial based on useful_votes / review age data\n",
      "# --two quadratics are fit to the scatter plot of useful votes vs review age (data shows non-trivial dependence on age)\n",
      "# --One could maybe motivate a Gumbel/Frechet/Weibull distribution or some such, but that's a bit involved...\n",
      "def make_density_labels(_data, _ages):\n",
      "    ct = np.zeros(70)\n",
      "    val = np.zeros(70)\n",
      "    #fit the avg_useful/age data to 2 quadratics (see analysis below)\n",
      "    ###Some bias due to binning###\n",
      "    for i in _data:\n",
      "        rev_age = _ages[i['review_id']]\n",
      "        ct[rev_age//1000] += 1\n",
      "        val[rev_age//1000] += i['votes']['useful']\n",
      "    val /= ct\n",
      "    ct /= np.sum(ct)\n",
      "    #For whatever reason, there is a peak at ~40k hours, after which the usefulness with age decreases\n",
      "    pa = np.poly1d(np.polyfit(np.arange(40), val[:40], 2))\n",
      "    pb = np.poly1d(np.polyfit(np.arange(40,70), val[40:], 2))\n",
      "    ret = {}\n",
      "    _ages = {}\n",
      "    for i in _data:\n",
      "        rev_age = _ages[i['review_id']]\n",
      "        ret[i['review_id']] = i['votes']['useful']\n",
      "        _ages[i['review_id']] = rev_age\n",
      "        if rev_age > 40000:\n",
      "            ret[i['review_id']] /= pb(rev_age/1000.)\n",
      "        else:\n",
      "            ret[i['review_id']] /= pa(rev_age/1000.)\n",
      "    return ret, _ages, pa, pb"
     ],
     "language": "python",
     "metadata": {},
     "outputs": [],
     "prompt_number": 9
    },
    {
     "cell_type": "code",
     "collapsed": false,
     "input": [
      "%%time\n",
      "#Create train and test data\n",
      "tr_no_user, tr_no_votes, tr_all = make_feats(tr_rev, '2013-01-19', bus_dict, usr_dict, test=False)\n",
      "te_no_user, te_no_votes, te_all = make_feats(te_rev, '2013-03-26', bus_dict, usr_dict, test=True)\n",
      "\n",
      "#Create review ages and labels (log)\n",
      "ages = {i['review_id']: age_in_hours(i['date'], '2013-01-19') for i in tr_rev}\n",
      "ages.update({i['review_id']: age_in_hours(i['date'], '2013-03-26') for i in te_rev})\n",
      "labels = {i['review_id']: math.log(1.+i['votes']['useful']) for i in tr_rev}\n",
      "#labels, pa, pb = make_density_labels(tr_rev, ages)\n",
      "\n",
      "print len(tr_no_user), len(tr_no_votes), len(tr_all)\n",
      "print len(te_no_user), len(te_no_votes), len(te_all)"
     ],
     "language": "python",
     "metadata": {},
     "outputs": [
      {
       "output_type": "stream",
       "stream": "stdout",
       "text": [
        "229907 215904 215879\n",
        "1448 7661 13847\n",
        "CPU times: user 20min 2s, sys: 20.9 s, total: 20min 23s\n",
        "Wall time: 20min 18s\n"
       ]
      }
     ],
     "prompt_number": 10
    },
    {
     "cell_type": "code",
     "collapsed": false,
     "input": [
      "def prep_datafiles(_data, _labels, _ages, fbase, test=False):\n",
      "    out_ids = []\n",
      "    out_data = []\n",
      "    out_ages = []\n",
      "    out_labels = []\n",
      "    for _id in _data:\n",
      "        out_ids.append(_id)\n",
      "        out_data.append(_data[_id])\n",
      "        out_ages.append(_ages[_id])\n",
      "        if not test:\n",
      "            out_labels.append(_labels[_id])\n",
      "    out_data = np.asarray(out_data, dtype=np.float32)\n",
      "    out_labels = np.asarray(out_labels, dtype=np.float32)\n",
      "    out_ages = np.asarray(out_ages, dtype=np.float32)\n",
      "    cp.dump(out_ids, open(fbase+'_ids', 'wb'), 2)\n",
      "    cp.dump(out_data, open(fbase+'_data', 'wb'), 2)\n",
      "    cp.dump(out_ages, open(fbase+'_ages', 'wb'), 2)\n",
      "    if not test:\n",
      "        cp.dump(out_labels, open(fbase+'_labels', 'wb'), 2)"
     ],
     "language": "python",
     "metadata": {},
     "outputs": [],
     "prompt_number": 11
    },
    {
     "cell_type": "code",
     "collapsed": false,
     "input": [
      "#Dump all of the datasets for easy use with the Models notebook\n",
      "prep_datafiles(tr_no_user, labels, ages, 'D_TR_user')\n",
      "prep_datafiles(tr_no_votes, labels, ages, 'D_TR_votes')\n",
      "prep_datafiles(tr_all, labels, ages, 'D_TR_all')\n",
      "prep_datafiles(te_no_user, labels, ages, 'D_TE_user', test=True)\n",
      "prep_datafiles(te_no_votes, labels, ages, 'D_TE_votes', test=True)\n",
      "prep_datafiles(te_all, labels, ages, 'D_TE_all', test=True)\n",
      "#cp.dump({'pa': pa, 'pb': pb}, open('D_label_poly', 'wb'), 2)"
     ],
     "language": "python",
     "metadata": {},
     "outputs": [],
     "prompt_number": 12
    },
    {
     "cell_type": "heading",
     "level": 3,
     "metadata": {},
     "source": [
      "Analysis"
     ]
    },
    {
     "cell_type": "code",
     "collapsed": false,
     "input": [
      "%matplotlib inline"
     ],
     "language": "python",
     "metadata": {},
     "outputs": [],
     "prompt_number": 14
    },
    {
     "cell_type": "code",
     "collapsed": false,
     "input": [
      "#Plot histograms of different features of the data, by choosing an index\n",
      "ind = 0\n",
      "tr_data = [i[ind] for i in tr_all.values()]\n",
      "te_data = [i[ind] for i in te_all.values()]\n",
      "hist, bins = np.histogram(tr_data, bins=50)\n",
      "hist2, bins2 = np.histogram(te_data, bins=50)\n",
      "#hist, bins = np.histogram(np.log(1 + tr_data[:, ind]), bins=50)\n",
      "width = 0.7 * (bins[1] - bins[0])\n",
      "center = (bins[:-1] + bins[1:]) / 2\n",
      "plt.bar(center, hist, align='center', width=width)\n",
      "plt.bar(center, hist2, align='center', width=width, color='r')\n",
      "plt.show()"
     ],
     "language": "python",
     "metadata": {},
     "outputs": [
      {
       "metadata": {},
       "output_type": "display_data",
       "png": "[encoded data removed]",
       "text": [
        "<matplotlib.figure.Figure at 0x1717990d0>"
       ]
      }
     ],
     "prompt_number": 15
    },
    {
     "cell_type": "code",
     "collapsed": false,
     "input": [
      "normal_labels = {i['review_id']: i['votes']['useful'] for i in tr_rev}\n",
      "ct = np.zeros(70)\n",
      "val = np.zeros(70)\n",
      "for i in tr_all:\n",
      "    ct[tr_all[i][0]//1000] += 1\n",
      "    val[tr_all[i][0]//1000] += normal_labels[i]\n",
      "val /= ct\n",
      "ct /= np.sum(ct)\n",
      "pa = np.poly1d(np.polyfit(np.arange(40), val[:40], 2))\n",
      "pb = np.poly1d(np.polyfit(np.arange(40,70), val[40:], 2))\n",
      "xp = np.arange(70)\n",
      "plt.scatter(xp, val)\n",
      "plt.plot(xp[:40], pa(xp[:40]))\n",
      "plt.plot(xp[40:], pb(xp[40:]))\n",
      "plt.bar(xp, ct*10)\n",
      "plt.show()"
     ],
     "language": "python",
     "metadata": {},
     "outputs": [
      {
       "metadata": {},
       "output_type": "display_data",
       "png": "[encoded data removed]",
       "text": [
        "<matplotlib.figure.Figure at 0x17280c110>"
       ]
      }
     ],
     "prompt_number": 16
    },
    {
     "cell_type": "code",
     "collapsed": false,
     "input": [
      "#Count how many of each type of info situation we have: all info ('votes'), missing user, or just missing vote counts\n",
      "def c_votes(_str, _data, _dict):  \n",
      "    counts = defaultdict(int)\n",
      "    ret = []\n",
      "    for sample in _data:\n",
      "        if sample['user_id'] in _dict:\n",
      "            if _str in _dict[sample['user_id']]:\n",
      "                counts[_str] += 1\n",
      "            else:\n",
      "                counts['no_votes'] += 1\n",
      "                ret.append(_dict[sample['user_id']])\n",
      "        else:\n",
      "            counts['no user'] += 1\n",
      "    print counts.items()\n",
      "    return ret"
     ],
     "language": "python",
     "metadata": {},
     "outputs": [],
     "prompt_number": 17
    },
    {
     "cell_type": "code",
     "collapsed": false,
     "input": [
      "nv = c_votes('votes', tr_rev, usr_dict)\n",
      "nv2 = c_votes('votes', te_rev, usr_dict)"
     ],
     "language": "python",
     "metadata": {},
     "outputs": [
      {
       "output_type": "stream",
       "stream": "stdout",
       "text": [
        "[('no user', 14003), ('votes', 215879), ('no_votes', 25)]\n",
        "[('no user', 1448), ('votes', 13847), ('no_votes', 7661)]"
       ]
      },
      {
       "output_type": "stream",
       "stream": "stdout",
       "text": [
        "\n"
       ]
      }
     ],
     "prompt_number": 18
    }
   ],
   "metadata": {}
  }
 ]
}